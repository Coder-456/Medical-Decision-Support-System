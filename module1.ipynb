{
  "nbformat": 4,
  "nbformat_minor": 0,
  "metadata": {
    "colab": {
      "name": "module1.ipynb",
      "provenance": [],
      "collapsed_sections": []
    },
    "kernelspec": {
      "name": "python3",
      "display_name": "Python 3"
    }
  },
  "cells": [
    {
      "cell_type": "markdown",
      "metadata": {
        "id": "gPU5U_esa6Ka"
      },
      "source": [
        "Module 1: Data Pre-processing"
      ]
    },
    {
      "cell_type": "code",
      "metadata": {
        "id": "4Wp0eUVQk3TW",
        "colab": {
          "base_uri": "https://localhost:8080/"
        },
        "outputId": "59bd39da-4b25-4de0-f26c-007546cb1f18"
      },
      "source": [
        "#connecting google drive and google colab.\n",
        "from google.colab import drive\n",
        "drive.mount('/gdrive')\n",
        "%cd /gdrive"
      ],
      "execution_count": null,
      "outputs": [
        {
          "output_type": "stream",
          "text": [
            "Mounted at /gdrive\n",
            "/gdrive\n"
          ],
          "name": "stdout"
        }
      ]
    },
    {
      "cell_type": "code",
      "metadata": {
        "colab": {
          "base_uri": "https://localhost:8080/"
        },
        "id": "t61ClrvUmwdi",
        "outputId": "d717d27b-99a0-4ac6-a4f4-022b55271cd3"
      },
      "source": [
        "import cv2,os\n",
        "#Loading the dataset\n",
        "data_path='/content/drive/MyDrive/dataset' \n",
        "categories=os.listdir(data_path)\n",
        "\n",
        "#labelling the dataset: covid pos : 0 covid neg : 1\n",
        "labels=[i for i in range(len(categories))]\n",
        "\n",
        "label_dict=dict(zip(categories,labels)) \n",
        "\n",
        "print(label_dict)\n",
        "print(categories)\n",
        "print(labels)\n"
      ],
      "execution_count": null,
      "outputs": [
        {
          "output_type": "stream",
          "text": [
            "{'Covid19 Positive': 0, 'Covid19 Negative': 1}\n",
            "['Covid19 Positive', 'Covid19 Negative']\n",
            "[0, 1]\n"
          ],
          "name": "stdout"
        }
      ]
    },
    {
      "cell_type": "code",
      "metadata": {
        "id": "ILOW0__NnwSo"
      },
      "source": [
        "img_size=100 # fixing image size for resizing\n",
        "data=[]\n",
        "target=[]\n",
        "\n",
        "for category in categories:\n",
        "    folder_path=os.path.join(data_path,category)\n",
        "    img_names=os.listdir(folder_path)\n",
        "        \n",
        "    for img_name in img_names:\n",
        "        img_path=os.path.join(folder_path,img_name)\n",
        "        img=cv2.imread(img_path)\n",
        "\n",
        "        try:\n",
        "            #Converting the image into gray scale\n",
        "            gray=cv2.cvtColor(img,cv2.COLOR_BGR2GRAY)           \n",
        "            #resizing the gray scale into 100x100, since we need a fixed common size for all the images in the dataset\n",
        "            resized=cv2.resize(gray,(img_size,img_size))\n",
        "            #appending the image and the label(categorized) into the list (dataset)\n",
        "            data.append(resized)\n",
        "            target.append(label_dict[category])\n",
        "           \n",
        "        except Exception as e:\n",
        "            #if any exception rasied, the exception will be printed here. And pass to the next image\n",
        "            print('Exception:',e)"
      ],
      "execution_count": null,
      "outputs": []
    },
    {
      "cell_type": "code",
      "metadata": {
        "id": "ZtQw0LdWr446"
      },
      "source": [
        "import numpy as np\n",
        "\n",
        "data=np.array(data)/255.0\n",
        "data=np.reshape(data,(data.shape[0],img_size,img_size,1))\n",
        "target=np.array(target)\n",
        "\n",
        "from keras.utils import np_utils\n",
        "\n",
        "new_target=np_utils.to_categorical(target)"
      ],
      "execution_count": null,
      "outputs": []
    },
    {
      "cell_type": "code",
      "metadata": {
        "id": "9Lj8J-vGwBdf"
      },
      "source": [
        "#saving of numpy files.\n",
        "np.save('data',data)\n",
        "np.save('target',new_target)"
      ],
      "execution_count": null,
      "outputs": []
    }
  ]
}